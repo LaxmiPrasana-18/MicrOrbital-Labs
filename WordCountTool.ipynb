{
  "nbformat": 4,
  "nbformat_minor": 0,
  "metadata": {
    "colab": {
      "provenance": []
    },
    "kernelspec": {
      "name": "python3",
      "display_name": "Python 3"
    },
    "language_info": {
      "name": "python"
    }
  },
  "cells": [
    {
      "cell_type": "code",
      "execution_count": 1,
      "metadata": {
        "colab": {
          "base_uri": "https://localhost:8080/"
        },
        "id": "UPCGdo7ICXDF",
        "outputId": "2dc109c8-9640-4f66-bd08-8a04a72de336"
      },
      "outputs": [
        {
          "output_type": "stream",
          "name": "stdout",
          "text": [
            "Mounted at /content/drive\n"
          ]
        }
      ],
      "source": [
        "from google.colab import drive\n",
        "drive.mount(\"/content/drive\")"
      ]
    },
    {
      "cell_type": "code",
      "source": [
        "file=open(\"/content/drive/MyDrive/text_file.txt\")\n",
        "count=0\n",
        "for line in file:\n",
        "  words=line.split(\" \")\n",
        "  count+=len(words)\n",
        "file.close()\n",
        "print(\"Number of words in the Text File:\",count)"
      ],
      "metadata": {
        "colab": {
          "base_uri": "https://localhost:8080/"
        },
        "id": "L1-T2ECMCyca",
        "outputId": "c376bf98-a6e9-4396-824e-9e71ab896017"
      },
      "execution_count": 2,
      "outputs": [
        {
          "output_type": "stream",
          "name": "stdout",
          "text": [
            "Number of words in the Text File: 96\n"
          ]
        }
      ]
    },
    {
      "cell_type": "code",
      "source": [],
      "metadata": {
        "id": "lRqXuE9mJ-Ju"
      },
      "execution_count": null,
      "outputs": []
    }
  ]
}