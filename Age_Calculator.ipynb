{
  "nbformat": 4,
  "nbformat_minor": 0,
  "metadata": {
    "colab": {
      "provenance": []
    },
    "kernelspec": {
      "name": "python3",
      "display_name": "Python 3"
    },
    "language_info": {
      "name": "python"
    }
  },
  "cells": [
    {
      "cell_type": "code",
      "source": [
        "from datetime import datetime, timedelta\n",
        "\n",
        "def find_possible_times(start_date, end_date):\n",
        "    start = datetime.strptime(start_date, \"%Y-%m-%d %H:%M:%S\")\n",
        "    end = datetime.strptime(end_date, \"%Y-%m-%d %H:%M:%S\")\n",
        "    difference = end - start\n",
        "    minutes = difference.total_seconds() // 60\n",
        "    hours = difference.total_seconds() // 3600\n",
        "    days = difference.days\n",
        "    months = end.month - start.month + 12 * (end.year - start.year)\n",
        "    years = end.year - start.year\n",
        "\n",
        "    return {\n",
        "        'Minutes': minutes,\n",
        "        'Hours': hours,\n",
        "        'Days': days,\n",
        "        'Months': months,\n",
        "        'Years': years\n",
        "    }\n",
        "\n",
        "start_date_input = input(\"Enter the start date and time (YYYY-MM-DD HH:MM:SS): \")\n",
        "end_date_input = input(\"Enter the end date and time (YYYY-MM-DD HH:MM:SS): \")\n",
        "\n",
        "results = find_possible_times(start_date_input, end_date_input)\n",
        "for key, value in results.items():\n",
        "    print(f\"{key}: {value}\")\n"
      ],
      "metadata": {
        "id": "wTGgX6F0JsNs",
        "colab": {
          "base_uri": "https://localhost:8080/"
        },
        "outputId": "0d09d0f9-de51-42f1-bda8-826e9e1c7c02"
      },
      "execution_count": 2,
      "outputs": [
        {
          "output_type": "stream",
          "name": "stdout",
          "text": [
            "Enter the start date and time (YYYY-MM-DD HH:MM:SS): 2003-01-16 06:30:05\n",
            "Enter the end date and time (YYYY-MM-DD HH:MM:SS): 2023-12-06 00:45:13\n",
            "Minutes: 10985415.0\n",
            "Hours: 183090.0\n",
            "Days: 7628\n",
            "Months: 251\n",
            "Years: 20\n"
          ]
        }
      ]
    },
    {
      "cell_type": "code",
      "source": [],
      "metadata": {
        "id": "6fRYeYeix5cU"
      },
      "execution_count": null,
      "outputs": []
    }
  ]
}