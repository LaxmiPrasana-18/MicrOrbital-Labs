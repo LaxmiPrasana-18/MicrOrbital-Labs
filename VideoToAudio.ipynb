{
  "nbformat": 4,
  "nbformat_minor": 0,
  "metadata": {
    "colab": {
      "provenance": []
    },
    "kernelspec": {
      "name": "python3",
      "display_name": "Python 3"
    },
    "language_info": {
      "name": "python"
    }
  },
  "cells": [
    {
      "cell_type": "code",
      "source": [
        "from google.colab import drive\n",
        "drive.mount('/content/drive')"
      ],
      "metadata": {
        "colab": {
          "base_uri": "https://localhost:8080/"
        },
        "id": "we8NLqhQlb8I",
        "outputId": "cbbc02e8-75b1-4b2b-d06a-99c7a45cf0b3"
      },
      "execution_count": 8,
      "outputs": [
        {
          "output_type": "stream",
          "name": "stdout",
          "text": [
            "Mounted at /content/drive\n"
          ]
        }
      ]
    },
    {
      "cell_type": "code",
      "source": [
        "from moviepy.editor import VideoFileClip\n",
        "\n",
        "def video_to_audio(input_video, output_audio):\n",
        "    video = VideoFileClip(input_video)\n",
        "    audio = video.audio\n",
        "    audio.write_audiofile(output_audio)\n",
        "\n",
        "if __name__ == \"__main__\":\n",
        "    input_file_path = input(\"Enter the path of your video file: \")\n",
        "    output_file_path = input(\"Enter the desired path for the output audio file: \")\n",
        "\n",
        "    video_to_audio(input_file_path, output_file_path)\n"
      ],
      "metadata": {
        "colab": {
          "base_uri": "https://localhost:8080/"
        },
        "id": "-MVGysFUoYsj",
        "outputId": "fc650e8e-e9d9-48b5-ce3d-bd6ec6e796f6"
      },
      "execution_count": 10,
      "outputs": [
        {
          "output_type": "stream",
          "name": "stdout",
          "text": [
            "Enter the path of your video file: /content/drive/MyDrive/Python Video to Audio Converter Project - DataFlair - Google Chrome 2023-12-02 18-25-29.mp4\n",
            "Enter the desired path for the output audio file: /content/drive/MyDrive/file_example_MP3_700KB.mp3\n",
            "MoviePy - Writing audio in /content/drive/MyDrive/file_example_MP3_700KB.mp3\n"
          ]
        },
        {
          "output_type": "stream",
          "name": "stderr",
          "text": []
        },
        {
          "output_type": "stream",
          "name": "stdout",
          "text": [
            "MoviePy - Done.\n"
          ]
        }
      ]
    }
  ]
}